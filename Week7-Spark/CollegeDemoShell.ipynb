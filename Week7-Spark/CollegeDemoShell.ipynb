{
 "cells": [
  {
   "cell_type": "markdown",
   "id": "071f9008",
   "metadata": {},
   "source": [
    "#### Some Warmup -- Python Code to Deal with Sequences of Tuples"
   ]
  },
  {
   "cell_type": "code",
   "execution_count": 1,
   "id": "ad7ff1cf",
   "metadata": {},
   "outputs": [
    {
     "data": {
      "application/vnd.jupyter.widget-view+json": {
       "model_id": "e80ff055cc9046ad8a21d92276617878",
       "version_major": 2,
       "version_minor": 0
      },
      "text/plain": [
       "VBox()"
      ]
     },
     "metadata": {},
     "output_type": "display_data"
    },
    {
     "name": "stdout",
     "output_type": "stream",
     "text": [
      "Starting Spark application\n"
     ]
    },
    {
     "data": {
      "text/html": [
       "<table>\n",
       "<tr><th>ID</th><th>YARN Application ID</th><th>Kind</th><th>State</th><th>Spark UI</th><th>Driver log</th><th>User</th><th>Current session?</th></tr><tr><td>3</td><td>application_1683835639732_0004</td><td>pyspark</td><td>idle</td><td><a target=\"_blank\" href=\"http://ip-172-31-82-18.ec2.internal:20888/proxy/application_1683835639732_0004/\" class=\"emr-proxy-link\" emr-resource=\"j-2LTGIIM8XBTFR\n",
       "\" application-id=\"application_1683835639732_0004\">Link</a></td><td><a target=\"_blank\" href=\"http://ip-172-31-83-235.ec2.internal:8042/node/containerlogs/container_1683835639732_0004_01_000001/livy\" >Link</a></td><td>None</td><td>✔</td></tr></table>"
      ],
      "text/plain": [
       "<IPython.core.display.HTML object>"
      ]
     },
     "metadata": {},
     "output_type": "display_data"
    },
    {
     "data": {
      "application/vnd.jupyter.widget-view+json": {
       "model_id": "",
       "version_major": 2,
       "version_minor": 0
      },
      "text/plain": [
       "FloatProgress(value=0.0, bar_style='info', description='Progress:', layout=Layout(height='25px', width='50%'),…"
      ]
     },
     "metadata": {},
     "output_type": "display_data"
    },
    {
     "name": "stdout",
     "output_type": "stream",
     "text": [
      "SparkSession available as 'spark'.\n"
     ]
    },
    {
     "data": {
      "application/vnd.jupyter.widget-view+json": {
       "model_id": "",
       "version_major": 2,
       "version_minor": 0
      },
      "text/plain": [
       "FloatProgress(value=0.0, bar_style='info', description='Progress:', layout=Layout(height='25px', width='50%'),…"
      ]
     },
     "metadata": {},
     "output_type": "display_data"
    }
   ],
   "source": [
    "people_lines = [\"Smith,John,35\", \n",
    "                \"Biden,Joe,80\", \n",
    "                \"Thunberg,Greta,20\",\n",
    "                \"Swift,Taylor,33\"]\n",
    "\n",
    "def parse_line(line):\n",
    "    return tuple(line.strip().split(\",\"))\n",
    "\n",
    "def parse_people(lines):\n",
    "    return list(map(parse_line, lines))\n"
   ]
  },
  {
   "cell_type": "code",
   "execution_count": null,
   "id": "b3273328",
   "metadata": {},
   "outputs": [],
   "source": [
    "records = parse_people(people_lines)"
   ]
  },
  {
   "cell_type": "code",
   "execution_count": null,
   "id": "41eb0350",
   "metadata": {},
   "outputs": [],
   "source": [
    "records"
   ]
  },
  {
   "cell_type": "code",
   "execution_count": null,
   "id": "ebd2d1c3",
   "metadata": {},
   "outputs": [],
   "source": [
    "# Filter certain records\n",
    "def old_people(tuples):\n",
    "    return [t for t in tuples if int(t[2]) > 30 ]\n",
    "\n",
    "# Do an operation on a record\n",
    "def print_old_message(t):\n",
    "    print(f\"{t[1]} {t[0]}, who is {t[2]} years old, is really old!\")\n"
   ]
  },
  {
   "cell_type": "code",
   "execution_count": null,
   "id": "758b9e91",
   "metadata": {},
   "outputs": [],
   "source": [
    "# Iteration over the records -- also, chain \n",
    "tuples = parse_people(people_lines)\n",
    "old_tuples = old_people(tuples)\n",
    "\n",
    "for t in old_tuples:\n",
    "    print_old_message(t)"
   ]
  },
  {
   "cell_type": "code",
   "execution_count": null,
   "id": "25c4cfcb",
   "metadata": {},
   "outputs": [],
   "source": [
    "# Same thing, only functional chaining\n",
    "\n",
    "for t in old_people(parse_people(people_lines)):\n",
    "    print_old_message(t)"
   ]
  },
  {
   "cell_type": "code",
   "execution_count": null,
   "id": "ca018d35",
   "metadata": {},
   "outputs": [],
   "source": [
    "#  Aggregation operation -- a reduction operator\n",
    "\n",
    "def count_old_people(lines):\n",
    "    return len(old_people(parse_people(lines)))\n",
    "\n",
    "count_old_people(people)"
   ]
  },
  {
   "cell_type": "code",
   "execution_count": null,
   "id": "aa2d8791",
   "metadata": {},
   "outputs": [],
   "source": [
    "# Using map along with a reduction operator to get average age\n",
    "\n",
    "sum(map(lambda t: int(t[2]), parse_people(people_lines))) / len(parse_people(people_lines))"
   ]
  },
  {
   "cell_type": "code",
   "execution_count": null,
   "id": "5e5ae35c",
   "metadata": {},
   "outputs": [],
   "source": [
    "# We want a list of all names in the data set (first and last).\n",
    "# Map has a problem when each input tuple generates multiple output values\n",
    "\n",
    "list(map(lambda t: [t[0], t[1]], parse_people(people_lines)))\n"
   ]
  },
  {
   "cell_type": "code",
   "execution_count": 2,
   "id": "26b5973a",
   "metadata": {},
   "outputs": [
    {
     "data": {
      "application/vnd.jupyter.widget-view+json": {
       "model_id": "26188dc251e240e0986a52175d20e74c",
       "version_major": 2,
       "version_minor": 0
      },
      "text/plain": [
       "VBox()"
      ]
     },
     "metadata": {},
     "output_type": "display_data"
    },
    {
     "data": {
      "application/vnd.jupyter.widget-view+json": {
       "model_id": "",
       "version_major": 2,
       "version_minor": 0
      },
      "text/plain": [
       "FloatProgress(value=0.0, bar_style='info', description='Progress:', layout=Layout(height='25px', width='50%'),…"
      ]
     },
     "metadata": {},
     "output_type": "display_data"
    },
    {
     "name": "stdout",
     "output_type": "stream",
     "text": [
      "['Smith', 'John', 'Biden', 'Joe', 'Thunberg', 'Greta', 'Swift', 'Taylor']"
     ]
    }
   ],
   "source": [
    "#  Convert a list of lists into a list of (non-list) elements\n",
    "def flatten(l):\n",
    "    return [item for sublist in l for item in sublist]\n",
    "\n",
    "flatten(list(map(lambda t: [t[0], t[1]], parse_people(people_lines))))"
   ]
  },
  {
   "cell_type": "code",
   "execution_count": null,
   "id": "a2e968a9",
   "metadata": {},
   "outputs": [],
   "source": [
    "# Get the name of the youngest person\n",
    "# Sort, follow by select\n",
    "pp = parse_people(people_lines)\n",
    "pp.sort(key = lambda t: t[2])\n",
    "youngest = pp[0]\n",
    "print(f\"The youngest person is {youngest[1]} {youngest[0]}\")"
   ]
  },
  {
   "cell_type": "code",
   "execution_count": null,
   "id": "c4f29ddb",
   "metadata": {},
   "outputs": [],
   "source": [
    "# Same thing but chain operations together.\n",
    "# Why can't we chain???? \n",
    "parse_people(people_lines).sort(key = lambda t: t[2])[0]"
   ]
  },
  {
   "cell_type": "code",
   "execution_count": null,
   "id": "a3f1e09b",
   "metadata": {},
   "outputs": [],
   "source": [
    "## Named Tuples are a cool Python trick to avoid having to \n",
    "## refer to obscure tuple indexes\n",
    "\n",
    "from collections import namedtuple\n",
    "Person = namedtuple(\"Person\", \"lastName firstName age\")\n",
    "\n",
    "def parse_line(line):\n",
    "    tuple = line.strip().split(\",\")\n",
    "    return Person(tuple[0], tuple[1], int(tuple[2]))\n",
    "\n",
    "pp = parse_people(people_lines)\n",
    "pp[0]\n",
    "pp[0].lastName"
   ]
  },
  {
   "cell_type": "code",
   "execution_count": null,
   "id": "84f47163",
   "metadata": {},
   "outputs": [],
   "source": [
    "# Functions that 'destructure' the tuple look cleaner!\n",
    "\n",
    "#def print_old_message(tuple):\n",
    "#    print(f\"{tuple[1]} {tuple[0]}, who is {tuple[2]} years old, is really old!\")\n",
    "    \n",
    "def print_old_message(tuple):\n",
    "    print(f\"{tuple.firstName} {tuple.lastName}, who is {tuple.age} years old, is really old!\")\n",
    "    \n",
    "print_old_message(parse_people(people_lines)[0])\n",
    "\n",
    "# sort(key = lambda t: t.age)"
   ]
  },
  {
   "cell_type": "markdown",
   "id": "c1ce2d57",
   "metadata": {},
   "source": [
    "####  Now on to Spark, and our \"College Population data sets\"\n",
    "\n",
    "There are two edited versions of the \"college data files\" in the repository;  one for 2015/2016 and one for 2017/2018.\n",
    "\n",
    "The fields are the following:\n",
    "*  Unique ID\n",
    "*  Name\n",
    "*  City\n",
    "*  State\n",
    "*  Zip\n",
    "*  Admission rate\n",
    "*  Average SAT score\n",
    "*  Enrollment\n",
    "*  CostA\n",
    "*  CostP\n",
    "\n",
    "The last two break down cost to public and private universities.  If one is non-null, the other should be null.\n",
    "If both are null, that's a missing value.  If both are non-null,  use either value.\n",
    "\n",
    "We will only keep these: attributes:  ID, name, state, enrollment, cost where cost is either costA or costP as above\n"
   ]
  },
  {
   "cell_type": "code",
   "execution_count": null,
   "id": "7a57f34d",
   "metadata": {},
   "outputs": [],
   "source": [
    "# Is the Spark Context available?\n",
    "sc"
   ]
  },
  {
   "cell_type": "code",
   "execution_count": null,
   "id": "77325cab",
   "metadata": {},
   "outputs": [],
   "source": [
    "year1516 = sc.textFile('s3://5330spark/College_2015_16.csv')"
   ]
  },
  {
   "cell_type": "code",
   "execution_count": null,
   "id": "fb245cd4",
   "metadata": {},
   "outputs": [],
   "source": [
    "# What is this thing?  "
   ]
  },
  {
   "cell_type": "code",
   "execution_count": null,
   "id": "85a83945",
   "metadata": {},
   "outputs": [],
   "source": [
    "#  Prep the file:  convert from lines to a list/tuple of fields, and only keep these:\n",
    "#  ID, name, state, enrollment, cost\n",
    "#  where cost is either costA or costP as above\n",
    "\n",
    "from collections import namedtuple\n",
    "CollegeRecord = namedtuple(\"CollegeRecord\", \"id name state city enrollment cost\")\n",
    "\n",
    "# Normalize the costa and costp fields to a single field cost.\n",
    "\n",
    "def prep_cost(costa, costp):\n",
    "  try:\n",
    "    if costa == 'NONE':\n",
    "      if costp == 'NONE':\n",
    "        return None\n",
    "      else:\n",
    "        return int(costp)\n",
    "    else:\n",
    "      return int(costa)\n",
    "  except:\n",
    "    return None\n",
    "\n",
    "# Enrollment -- Error checking and convert to integer\n",
    "def get_enrollment(enr):\n",
    "    enrollment = None\n",
    "    try:\n",
    "        enrollment = int(enr)\n",
    "    except:\n",
    "        enrollment = None\n",
    "    return enrollment\n",
    "    \n",
    "# To process a record -- do some sanity checking,\n",
    "# normalize the fields, convert to a CollegeRecrod\n",
    "def prep_line(line):\n",
    "    pass\n"
   ]
  },
  {
   "cell_type": "code",
   "execution_count": null,
   "id": "6c7e7818",
   "metadata": {},
   "outputs": [],
   "source": [
    "# Map the data set over prep_line, we should see pretty records"
   ]
  },
  {
   "cell_type": "code",
   "execution_count": null,
   "id": "63b91957",
   "metadata": {},
   "outputs": [],
   "source": [
    "# Filter out records that might have been rejected due to bad format\n",
    "p1516 = ???"
   ]
  },
  {
   "cell_type": "code",
   "execution_count": null,
   "id": "dcaa3d78",
   "metadata": {},
   "outputs": [],
   "source": [
    "# How many records were filtered due to errors in format\n"
   ]
  },
  {
   "cell_type": "code",
   "execution_count": null,
   "id": "44fdd998",
   "metadata": {},
   "outputs": [],
   "source": [
    "# Filtering -- How many records are there from the state of California?\n",
    "# rdd.count() gives number of elements in the RDD. "
   ]
  },
  {
   "cell_type": "code",
   "execution_count": null,
   "id": "ea1b9c2c",
   "metadata": {},
   "outputs": [],
   "source": [
    "# rdd.sortBy(lambda:  ... , ascending=bool) returns a sorted RDD.\n",
    "#   What is the name and cost of the 5 cheapest universities\n"
   ]
  },
  {
   "cell_type": "code",
   "execution_count": null,
   "id": "d5c49c9c",
   "metadata": {},
   "outputs": [],
   "source": [
    "# What is the name and cost of the 5 most expensive universities\n"
   ]
  },
  {
   "cell_type": "code",
   "execution_count": null,
   "id": "ce275529",
   "metadata": {},
   "outputs": [],
   "source": [
    "# Grouping and aggregating is a really big deal.\n",
    "#   What does a groupby look like?\n",
    "p1516.groupBy(lambda t: t.state)"
   ]
  },
  {
   "cell_type": "code",
   "execution_count": null,
   "id": "65efd105",
   "metadata": {},
   "outputs": [],
   "source": [
    "# What is in the iterable?\n",
    "p1516.groupBy(lambda t: t.state).mapValues(list).take(5)"
   ]
  },
  {
   "cell_type": "code",
   "execution_count": null,
   "id": "1bb470a2",
   "metadata": {},
   "outputs": [],
   "source": [
    "# Using just groupby, get the number of universities in each state\n",
    "p1516.groupBy(lambda t: t.state).map(lambda t: (t[0], len(list(t[1])))).sortBy(lambda t: t[1]).collect()"
   ]
  },
  {
   "cell_type": "code",
   "execution_count": null,
   "id": "7fe275b4",
   "metadata": {},
   "outputs": [],
   "source": [
    "# If your reduction is simple counting, countByValue can be your friend.  Easy way to get # universities per state\n",
    "p1516.map(lambda t: t.state).countByValue()"
   ]
  },
  {
   "cell_type": "code",
   "execution_count": 4,
   "id": "4a87f017",
   "metadata": {},
   "outputs": [
    {
     "data": {
      "application/vnd.jupyter.widget-view+json": {
       "model_id": "a7a9a41e407f4142a0e384ae37f34da8",
       "version_major": 2,
       "version_minor": 0
      },
      "text/plain": [
       "VBox()"
      ]
     },
     "metadata": {},
     "output_type": "display_data"
    },
    {
     "data": {
      "application/vnd.jupyter.widget-view+json": {
       "model_id": "",
       "version_major": 2,
       "version_minor": 0
      },
      "text/plain": [
       "FloatProgress(value=0.0, bar_style='info', description='Progress:', layout=Layout(height='25px', width='50%'),…"
      ]
     },
     "metadata": {},
     "output_type": "display_data"
    },
    {
     "name": "stderr",
     "output_type": "stream",
     "text": [
      "An error was encountered:\n",
      "name 'p1516' is not defined\n",
      "Traceback (most recent call last):\n",
      "NameError: name 'p1516' is not defined\n",
      "\n"
     ]
    }
   ],
   "source": [
    "# foldByKey does the aggregation without bringing the iterable elements into memory\n",
    "# Let's do total enrollment instead\n",
    "initial_value = 0\n",
    "add_func = lambda x,y: x+y\n",
    "\n",
    "folded = p1516.filter(lambda t: t.enrollment).\\\n",
    "    map(lambda t: (t.state, t.enrollment)).\\\n",
    "        foldByKey(initial_value, add_func).\\\n",
    "            sortBy(lambda t: t[1], ascending=False).\\\n",
    "                take(5)"
   ]
  },
  {
   "cell_type": "code",
   "execution_count": null,
   "id": "7acf3245",
   "metadata": {},
   "outputs": [],
   "source": [
    "# More general form of aggregation/accumulation to take an average\n",
    "\n",
    "#  Accumulate sum and count.   Two cases\n",
    "#    Incrementally count c to a running total (sum, count)   =>  (sum+1, count + c)\n",
    "#    Aggregate two (sum, count) totals:  (s1+s2, c1+c2)\n",
    "\n",
    "def aggCounts(p1, p2):\n",
    "    return (p1[0]+p2[0], p1[1]+p2[1])\n",
    "\n",
    "def accumCount(sofar, new):\n",
    "    return (sofar[0] + new, sofar[1] + 1)\n",
    "\n",
    "l = p1516.filter(lambda t: t.enrollment != None)\n",
    "m = l.map(lambda t: (t.state, t.enrollment))\n",
    "\n",
    "f = m.aggregateByKey((0,0), accumCount, aggCounts)\n",
    "\n",
    "g = f.map(lambda t: (t[0], int(t[1][0]/t[1][1])))"
   ]
  },
  {
   "cell_type": "code",
   "execution_count": null,
   "id": "c11a4f99",
   "metadata": {},
   "outputs": [],
   "source": [
    "# Another example of accumulation -- List of unique cities per state.\n",
    "#  The 'unique' part is the tricky\n",
    "\n",
    "def addItem(tp, i):\n",
    "    if i in tp:\n",
    "        return tp\n",
    "    else:\n",
    "        return tuple(list(tp) + [i])\n",
    "    \n",
    "a = p1516.map(lambda t: (t.state, t.city)).foldByKey((), addItem)"
   ]
  },
  {
   "cell_type": "code",
   "execution_count": null,
   "id": "55460f4a",
   "metadata": {},
   "outputs": [],
   "source": [
    "### Joining.  Calculate % change in enrollment from one year to the next\n",
    "# Consider change between the two time periods.\n",
    "\n",
    "# Same data set from the next time period\n",
    "p1718 = sc.textFile('s3://5330spark/College_2017_18.csv').map(prep_line).filter(lambda t: t != None)"
   ]
  },
  {
   "cell_type": "code",
   "execution_count": null,
   "id": "33bd7b4f",
   "metadata": {},
   "outputs": [],
   "source": [
    "k1516 = p1516.keyBy(lambda t: t.id)\n",
    "k1718 = p1718.keyBy(lambda t: t.id)"
   ]
  },
  {
   "cell_type": "code",
   "execution_count": null,
   "id": "fd567b5e",
   "metadata": {},
   "outputs": [],
   "source": [
    "k1516.take(3)"
   ]
  },
  {
   "cell_type": "code",
   "execution_count": null,
   "id": "15c919be",
   "metadata": {},
   "outputs": [],
   "source": [
    "j = k1516.join(k1718)"
   ]
  },
  {
   "cell_type": "code",
   "execution_count": null,
   "id": "6a4cc099",
   "metadata": {},
   "outputs": [],
   "source": [
    "j.take(3)"
   ]
  },
  {
   "cell_type": "code",
   "execution_count": null,
   "id": "4f601844",
   "metadata": {},
   "outputs": [],
   "source": [
    "# Now figure out to get % increase in enrollment from one year to the next!"
   ]
  },
  {
   "cell_type": "markdown",
   "id": "943b6702",
   "metadata": {},
   "source": [
    "###  One last loose end.  Flatmap in Spark RDDs"
   ]
  },
  {
   "cell_type": "code",
   "execution_count": null,
   "id": "310e8c46",
   "metadata": {},
   "outputs": [],
   "source": [
    "people_rdd = sc.parallelize(people_lines)"
   ]
  },
  {
   "cell_type": "code",
   "execution_count": null,
   "id": "22577ccf",
   "metadata": {},
   "outputs": [],
   "source": [
    "p = people_rdd.map(lambda l: l.strip().split(','))"
   ]
  },
  {
   "cell_type": "code",
   "execution_count": null,
   "id": "4a3ef9c1",
   "metadata": {},
   "outputs": [],
   "source": [
    "p.take(2)"
   ]
  },
  {
   "cell_type": "code",
   "execution_count": null,
   "id": "8f55e2df",
   "metadata": {},
   "outputs": [],
   "source": [
    "p.map(lambda t: [t[0], t[1]]).collect()"
   ]
  },
  {
   "cell_type": "code",
   "execution_count": null,
   "id": "a90cb7ea",
   "metadata": {},
   "outputs": [],
   "source": [
    "p.flatMap(lambda t: [t[0], t[1]]).collect()"
   ]
  },
  {
   "cell_type": "code",
   "execution_count": null,
   "id": "b7d2418e",
   "metadata": {},
   "outputs": [],
   "source": []
  }
 ],
 "metadata": {
  "kernelspec": {
   "display_name": "PySpark",
   "language": "python",
   "name": "pysparkkernel"
  },
  "language_info": {
   "codemirror_mode": {
    "name": "python",
    "version": 3
   },
   "file_extension": ".py",
   "mimetype": "text/x-python",
   "name": "pyspark",
   "pygments_lexer": "python3"
  }
 },
 "nbformat": 4,
 "nbformat_minor": 5
}
